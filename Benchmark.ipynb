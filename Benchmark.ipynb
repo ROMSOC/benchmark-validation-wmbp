{
 "cells": [
  {
   "cell_type": "markdown",
   "id": "157a2321-1a3f-4802-8944-a6526df6ed4c",
   "metadata": {},
   "source": [
    "### Benchmarks for Point Source to Far Field reflector problem"
   ]
  },
  {
   "cell_type": "markdown",
   "id": "7d6b6780-c3a3-4d10-9844-ede89f0c244f",
   "metadata": {},
   "source": [
    "This code is developed to simulate the benchmark cases of model hierarchies for the Point Source to Far Field reflector problem. In order to use the code, one should choose desired benchmark case in the main.cpp file, and then run the makefile."
   ]
  },
  {
   "cell_type": "code",
   "execution_count": 1,
   "id": "148f7963-e934-4424-8e3d-468b4294312d",
   "metadata": {},
   "outputs": [
    {
     "name": "stdout",
     "output_type": "stream",
     "text": [
      "/home/jovyan/BenchmarkCode\n"
     ]
    }
   ],
   "source": [
    "cd BenchmarkCode"
   ]
  },
  {
   "cell_type": "markdown",
   "id": "34008ab5-9500-4b1b-8a67-b27b8c4f9f71",
   "metadata": {},
   "source": [
    "Compile the code:"
   ]
  },
  {
   "cell_type": "code",
   "execution_count": 4,
   "id": "0c7a9855-9a76-46aa-aeec-d24dd5a4cf85",
   "metadata": {},
   "outputs": [
    {
     "name": "stdout",
     "output_type": "stream",
     "text": [
      "/bin/bash: warning: setlocale: LC_ALL: cannot change locale (en_US.UTF-8)\n",
      "g++ -DMKL_ILP64 -m64 -I /opt/intel/oneapi/mkl/latest/include main.cpp Benchmarks/test_3D_SquareToCircle_logcost_MonteCarlo.h Benchmarks/test_3D_SquareToTwoGaussSide_logcost_MonteCarlo.h PushForward/PushForward_Cloud_128.h PushForward/Pushforward_of_RefRegular.h QuasiMonteCarlo/Generic_3D_logcost_MonteCarlo.h QuasiMonteCarlo/MonteCarlo_Pointcloud_3D_128.h SmallGrid/3D_MonteCarlo_Pointcloud_small.h SmallGrid/SmallSinkhorn_3D_MC.h -o main -Wl,--start-group /opt/intel/oneapi/mkl/latest/lib/intel64/libmkl_intel_ilp64.a /opt/intel/oneapi/mkl/latest/lib/intel64/libmkl_sequential.a /opt/intel/oneapi/mkl/latest/lib/intel64/libmkl_core.a -Wl,--end-group -lpthread -lm -ldl\n"
     ]
    }
   ],
   "source": [
    "!make"
   ]
  },
  {
   "cell_type": "markdown",
   "id": "780c31f6-8e64-4552-90b8-4ebed0ac6a0c",
   "metadata": {},
   "source": [
    "Run the benchmark test:"
   ]
  },
  {
   "cell_type": "code",
   "execution_count": null,
   "id": "79891cd9-c0cd-4b42-8129-5f18ac90af4b",
   "metadata": {},
   "outputs": [],
   "source": [
    "!./main"
   ]
  }
 ],
 "metadata": {
  "kernelspec": {
   "display_name": "Python 3 (ipykernel)",
   "language": "python",
   "name": "python3"
  },
  "language_info": {
   "codemirror_mode": {
    "name": "ipython",
    "version": 3
   },
   "file_extension": ".py",
   "mimetype": "text/x-python",
   "name": "python",
   "nbconvert_exporter": "python",
   "pygments_lexer": "ipython3",
   "version": "3.9.7"
  }
 },
 "nbformat": 4,
 "nbformat_minor": 5
}
